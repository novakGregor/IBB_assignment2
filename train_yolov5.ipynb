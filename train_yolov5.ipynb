{
 "cells": [
  {
   "cell_type": "markdown",
   "metadata": {
    "id": "7mGmQbAO5pQb"
   },
   "source": [
    "# Setup"
   ]
  },
  {
   "cell_type": "code",
   "execution_count": null,
   "metadata": {
    "colab": {
     "base_uri": "https://localhost:8080/"
    },
    "id": "wbvMlHd_QwMG",
    "outputId": "d4de4fd6-3580-423d-8ad1-ed7ead43c89e"
   },
   "outputs": [],
   "source": [
    "# Clone repo, install dependencies and check PyTorch and GPU.\n",
    "\n",
    "!git clone https://github.com/ultralytics/yolov5  # clone\n",
    "%cd yolov5\n",
    "%pip install -qr requirements.txt  # install\n",
    "\n",
    "import torch\n",
    "from yolov5 import utils\n",
    "display = utils.notebook_init()  # checks"
   ]
  },
  {
   "cell_type": "code",
   "execution_count": null,
   "metadata": {
    "colab": {
     "base_uri": "https://localhost:8080/"
    },
    "id": "vJy6DlxPX5iD",
    "outputId": "ca26cd6a-b429-4ae1-aad7-30431cd1b4f5"
   },
   "outputs": [],
   "source": [
    "# Mount Google Drive\n",
    "\n",
    "from google.colab import drive\n",
    "drive.mount('/content/gdrive')\n",
    "!ln -s /content/gdrive/My\\ Drive/ /mydrive\n",
    "!ls /mydrive"
   ]
  },
  {
   "cell_type": "code",
   "execution_count": null,
   "metadata": {
    "colab": {
     "base_uri": "https://localhost:8080/"
    },
    "id": "awrJLyhfYxsX",
    "outputId": "1862fdf4-57c5-4d43-8cad-8f9a9d4a9ff5"
   },
   "outputs": [],
   "source": [
    "# Unzip files from Google Drive to current colab session\n",
    "!unzip /mydrive/sb_assignment2/train_data.zip -d ./"
   ]
  },
  {
   "cell_type": "markdown",
   "metadata": {
    "id": "4JnkELT0cIJg"
   },
   "source": [
    "# Train"
   ]
  },
  {
   "cell_type": "code",
   "execution_count": null,
   "metadata": {
    "colab": {
     "base_uri": "https://localhost:8080/"
    },
    "id": "zR9ZbuQCH7FX",
    "outputId": "64ae2b30-2ca6-40bc-f884-bf9c9cf1c027"
   },
   "outputs": [],
   "source": [
    "# Train YOLOv5s for 100 epochs\n",
    "!python train.py --img 480 --batch 16 --epochs 100 --data /content/gdrive/MyDrive/sb_assignment2/custom_data.yaml --weights yolov5s.pt --cache"
   ]
  },
  {
   "cell_type": "markdown",
   "metadata": {
    "id": "ZY2VXXXu74w5"
   },
   "source": [
    "# Inference"
   ]
  },
  {
   "cell_type": "code",
   "execution_count": null,
   "metadata": {
    "id": "1NcFxRcFdJ_O"
   },
   "outputs": [],
   "source": [
    "# run locally, not on colab (to get local result files)\n",
    "python ./yolov5/detect.py --weights \"./data/yolov5/best.pt\" --img 480 --conf 0.25 --save-txt --save-conf --source \"./data/train_data/images/test\""
   ]
  }
 ],
 "metadata": {
  "accelerator": "GPU",
  "colab": {
   "collapsed_sections": [],
   "name": "Kopija beležnice YOLOv5 Tutorial",
   "provenance": []
  },
  "kernelspec": {
   "display_name": "Python 3",
   "language": "python",
   "name": "python3"
  },
  "language_info": {
   "codemirror_mode": {
    "name": "ipython",
    "version": 3
   },
   "file_extension": ".py",
   "mimetype": "text/x-python",
   "name": "python",
   "nbconvert_exporter": "python",
   "pygments_lexer": "ipython3",
   "version": "3.8.2"
  }
 },
 "nbformat": 4,
 "nbformat_minor": 1
}